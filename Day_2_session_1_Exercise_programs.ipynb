{
  "nbformat": 4,
  "nbformat_minor": 0,
  "metadata": {
    "colab": {
      "name": "Day 2 session 1 Exercise programs",
      "provenance": [],
      "collapsed_sections": [],
      "include_colab_link": true
    },
    "kernelspec": {
      "name": "python3",
      "display_name": "Python 3"
    }
  },
  "cells": [
    {
      "cell_type": "markdown",
      "metadata": {
        "id": "view-in-github",
        "colab_type": "text"
      },
      "source": [
        "<a href=\"https://colab.research.google.com/github/prathu47/Python_Workshop/blob/master/Day_2_session_1_Exercise_programs.ipynb\" target=\"_parent\"><img src=\"https://colab.research.google.com/assets/colab-badge.svg\" alt=\"Open In Colab\"/></a>"
      ]
    },
    {
      "cell_type": "markdown",
      "metadata": {
        "id": "kuAVc2umkh0s",
        "colab_type": "text"
      },
      "source": [
        "#print multiples of 3 upto 200 using a list"
      ]
    },
    {
      "cell_type": "code",
      "metadata": {
        "id": "Qp_-FzbBkpCn",
        "colab_type": "code",
        "colab": {
          "base_uri": "https://localhost:8080/",
          "height": 54
        },
        "outputId": "156111d8-8595-4f93-d618-714237bdcd8e"
      },
      "source": [
        "def multiple(m, n): \n",
        "  \n",
        "    # inserts all elements from n to  \n",
        "    # (m * n)+1 incremented by n. \n",
        "    a = range(n, (m * n)+1, n) \n",
        "      \n",
        "    print(*a) \n",
        "  \n",
        "# driver code  \n",
        "m = 200\n",
        "n = 3\n",
        "multiple(m, n)"
      ],
      "execution_count": null,
      "outputs": [
        {
          "output_type": "stream",
          "text": [
            "3 6 9 12 15 18 21 24 27 30 33 36 39 42 45 48 51 54 57 60 63 66 69 72 75 78 81 84 87 90 93 96 99 102 105 108 111 114 117 120 123 126 129 132 135 138 141 144 147 150 153 156 159 162 165 168 171 174 177 180 183 186 189 192 195 198 201 204 207 210 213 216 219 222 225 228 231 234 237 240 243 246 249 252 255 258 261 264 267 270 273 276 279 282 285 288 291 294 297 300 303 306 309 312 315 318 321 324 327 330 333 336 339 342 345 348 351 354 357 360 363 366 369 372 375 378 381 384 387 390 393 396 399 402 405 408 411 414 417 420 423 426 429 432 435 438 441 444 447 450 453 456 459 462 465 468 471 474 477 480 483 486 489 492 495 498 501 504 507 510 513 516 519 522 525 528 531 534 537 540 543 546 549 552 555 558 561 564 567 570 573 576 579 582 585 588 591 594 597 600\n"
          ],
          "name": "stdout"
        }
      ]
    },
    {
      "cell_type": "markdown",
      "metadata": {
        "id": "wRBa2RA0lFvo",
        "colab_type": "text"
      },
      "source": [
        "#print the nos only divisable by 5 and 7 between 1000 and 2000 using a list( both inclusive)"
      ]
    },
    {
      "cell_type": "code",
      "metadata": {
        "id": "1pEd4CAYlaoK",
        "colab_type": "code",
        "colab": {
          "base_uri": "https://localhost:8080/",
          "height": 34
        },
        "outputId": "a9549379-d0bb-4d34-bf35-00d2bc632b97"
      },
      "source": [
        "nl=[]\n",
        "for x in range(1000, 2000):\n",
        "    if (x%7==0) and (x%5==0):\n",
        "        nl.append(str(x))\n",
        "print (','.join(nl))"
      ],
      "execution_count": null,
      "outputs": [
        {
          "output_type": "stream",
          "text": [
            "1015,1050,1085,1120,1155,1190,1225,1260,1295,1330,1365,1400,1435,1470,1505,1540,1575,1610,1645,1680,1715,1750,1785,1820,1855,1890,1925,1960,1995\n"
          ],
          "name": "stdout"
        }
      ]
    },
    {
      "cell_type": "markdown",
      "metadata": {
        "id": "P6Mu1ReVl5PP",
        "colab_type": "text"
      },
      "source": [
        "#Add the n number of names in a list and print them alphabetically and reverse alphabetically.\n",
        "\n"
      ]
    },
    {
      "cell_type": "code",
      "metadata": {
        "id": "XLt0PTT_l9Qp",
        "colab_type": "code",
        "colab": {
          "base_uri": "https://localhost:8080/",
          "height": 51
        },
        "outputId": "d01d5be9-fdfc-460e-af22-fe26d665ff05"
      },
      "source": [
        " def reverse(string): \n",
        "    string = string[::-1] \n",
        "    return string \n",
        "  \n",
        "s = \"Geeksforgeeks\"\n",
        "  \n",
        "print (\"The original string  is : \",end=\"\") \n",
        "print (s) \n",
        "  \n",
        "print (\"The reversed string(using extended slice syntax) is : \",end=\"\") \n",
        "print (reverse(s)) \n"
      ],
      "execution_count": null,
      "outputs": [
        {
          "output_type": "stream",
          "text": [
            "The original string  is : Geeksforgeeks\n",
            "The reversed string(using extended slice syntax) is : skeegrofskeeG\n"
          ],
          "name": "stdout"
        }
      ]
    },
    {
      "cell_type": "markdown",
      "metadata": {
        "id": "leKYLyWxyUGQ",
        "colab_type": "text"
      },
      "source": [
        "#Print  perfect squares and divisible by 5 between 500 and 1000( (both inclusive) using list\n",
        "\n"
      ]
    },
    {
      "cell_type": "code",
      "metadata": {
        "id": "487QFnmhy6Rf",
        "colab_type": "code",
        "colab": {
          "base_uri": "https://localhost:8080/",
          "height": 71
        },
        "outputId": "3a53e29f-7d65-474f-9f5c-41ec36c5a442"
      },
      "source": [
        "l=[x for x in range(500,int(input(\"enter n\"))+1)if x%5==0]\n",
        "print(l)"
      ],
      "execution_count": null,
      "outputs": [
        {
          "output_type": "stream",
          "text": [
            "enter n1000\n",
            "[500, 505, 510, 515, 520, 525, 530, 535, 540, 545, 550, 555, 560, 565, 570, 575, 580, 585, 590, 595, 600, 605, 610, 615, 620, 625, 630, 635, 640, 645, 650, 655, 660, 665, 670, 675, 680, 685, 690, 695, 700, 705, 710, 715, 720, 725, 730, 735, 740, 745, 750, 755, 760, 765, 770, 775, 780, 785, 790, 795, 800, 805, 810, 815, 820, 825, 830, 835, 840, 845, 850, 855, 860, 865, 870, 875, 880, 885, 890, 895, 900, 905, 910, 915, 920, 925, 930, 935, 940, 945, 950, 955, 960, 965, 970, 975, 980, 985, 990, 995, 1000]\n"
          ],
          "name": "stdout"
        }
      ]
    },
    {
      "cell_type": "markdown",
      "metadata": {
        "id": "vU4gzXzAzy6b",
        "colab_type": "text"
      },
      "source": [
        "\n",
        "#Calculate the Average of  the numbers in a List by getting the elements of list from keyboard .\n",
        "\n"
      ]
    },
    {
      "cell_type": "code",
      "metadata": {
        "id": "5oSynYDEz8B3",
        "colab_type": "code",
        "colab": {
          "base_uri": "https://localhost:8080/",
          "height": 118
        },
        "outputId": "3cc93ff6-de2c-4746-9b4c-f5bca6ae503b"
      },
      "source": [
        "n=int(input(\"Enter the number of elements to be inserted: \"))\n",
        "a=[]\n",
        "for i in range(0,n):\n",
        "    elem=int(input(\"Enter element: \"))\n",
        "    a.append(elem)\n",
        "avg=sum(a)/n\n",
        "print(\"Average of elements in the list\",round(avg,2))"
      ],
      "execution_count": null,
      "outputs": [
        {
          "output_type": "stream",
          "text": [
            "Enter the number of elements to be inserted: 4\n",
            "Enter element: 8\n",
            "Enter element: 7\n",
            "Enter element: 2\n",
            "Enter element: 6\n",
            "Average of elements in the list 5.75\n"
          ],
          "name": "stdout"
        }
      ]
    },
    {
      "cell_type": "markdown",
      "metadata": {
        "id": "uEdtYB4w0OXR",
        "colab_type": "text"
      },
      "source": [
        "#Print lists of odd,even and multiples of 5 numbers from 1 to 1000 using list comprehension"
      ]
    },
    {
      "cell_type": "code",
      "metadata": {
        "id": "e7dFni8w0UCp",
        "colab_type": "code",
        "colab": {
          "base_uri": "https://localhost:8080/",
          "height": 84
        },
        "outputId": "086cea86-bf29-4c04-ca5f-ef759670d280"
      },
      "source": [
        "num = int(input(\"Enter a number: \"))  \n",
        "if (num % 2) == 0:  \n",
        "   print(\"{0} is Even number\".format(num))  \n",
        "else:  \n",
        "   print(\"{0} is Odd number\".format(num))\n",
        "l=[x for x in range(1,int(input(\"enter num\"))+1)if x%5==0]\n",
        "print(l)"
      ],
      "execution_count": null,
      "outputs": [
        {
          "output_type": "stream",
          "text": [
            "Enter a number: 5\n",
            "5 is Odd number\n",
            "enter num25\n",
            "[5, 10, 15, 20, 25]\n"
          ],
          "name": "stdout"
        }
      ]
    },
    {
      "cell_type": "markdown",
      "metadata": {
        "id": "vi9JjxsCdeP6",
        "colab_type": "text"
      },
      "source": [
        "#Python Program to Create a List of Tuples with the First Element as the Number and Second Element as the Square of the Number "
      ]
    },
    {
      "cell_type": "code",
      "metadata": {
        "id": "QKxJKReoinJx",
        "colab_type": "code",
        "colab": {
          "base_uri": "https://localhost:8080/",
          "height": 67
        },
        "outputId": "3952438d-8e69-4091-ca3c-433f109bc01b"
      },
      "source": [
        "l_range=int(input(\"Enter the lower range:\"))\n",
        "u_range=int(input(\"Enter the upper range:\"))\n",
        "a=[(x,x**2) for x in range(l_range,u_range+1)]\n",
        "print(a)"
      ],
      "execution_count": null,
      "outputs": [
        {
          "output_type": "stream",
          "text": [
            "Enter the lower range:5\n",
            "Enter the upper range:9\n",
            "[(5, 25), (6, 36), (7, 49), (8, 64), (9, 81)]\n"
          ],
          "name": "stdout"
        }
      ]
    },
    {
      "cell_type": "markdown",
      "metadata": {
        "id": "RrGFlSZMr7R9",
        "colab_type": "text"
      },
      "source": [
        "# Write python program to have a list of words  to sort them from  shortest to longest using list of tuples"
      ]
    },
    {
      "cell_type": "code",
      "metadata": {
        "id": "L73YsDpMvO3g",
        "colab_type": "code",
        "colab": {
          "base_uri": "https://localhost:8080/",
          "height": 34
        },
        "outputId": "b8bb502c-5454-424a-9f52-aca3fa854a98"
      },
      "source": [
        "txt = 'but soft what light in yonder window breaks' \n",
        "words = txt.split()\n",
        "t = list() \n",
        "for word in words: \n",
        "  t.append((len(word), word)) \n",
        "t.sort(reverse=True) \n",
        "\n",
        "res = list() \n",
        "for length, word in t: \n",
        "  res.append(word) \n",
        "\n",
        "print (res) \n"
      ],
      "execution_count": null,
      "outputs": [
        {
          "output_type": "stream",
          "text": [
            "['yonder', 'window', 'breaks', 'light', 'what', 'soft', 'but', 'in']\n"
          ],
          "name": "stdout"
        }
      ]
    },
    {
      "cell_type": "markdown",
      "metadata": {
        "id": "QWbGXBWUwRON",
        "colab_type": "text"
      },
      "source": [
        "#Write python program to get a list of tuples of Rollno,Name for 5 students "
      ]
    },
    {
      "cell_type": "code",
      "metadata": {
        "id": "raSXutFqwYNs",
        "colab_type": "code",
        "colab": {
          "base_uri": "https://localhost:8080/",
          "height": 51
        },
        "outputId": "d153cd0b-4611-416d-9695-c8eb94926872"
      },
      "source": [
        "my_list = [ ('John', 40), ('Dana', 35), ('Betty', 10), ('Robby', 8), ('Jones', 20) ] \n",
        "my_list.sort()\n",
        "print(\"simple sort\") \n",
        "print(my_list) \n",
        "\n",
        "\n",
        "\n"
      ],
      "execution_count": null,
      "outputs": [
        {
          "output_type": "stream",
          "text": [
            "simple sort\n",
            "[('Betty', 10), ('Dana', 35), ('John', 40), ('Jones', 20), ('Robby', 8)]\n"
          ],
          "name": "stdout"
        }
      ]
    }
  ]
}