{
  "nbformat": 4,
  "nbformat_minor": 0,
  "metadata": {
    "colab": {
      "name": "Day_3_Sesson_2_Exercise.ipynb",
      "provenance": [],
      "include_colab_link": true
    },
    "kernelspec": {
      "name": "python3",
      "display_name": "Python 3"
    }
  },
  "cells": [
    {
      "cell_type": "markdown",
      "metadata": {
        "id": "view-in-github",
        "colab_type": "text"
      },
      "source": [
        "<a href=\"https://colab.research.google.com/github/prathu47/Python_Workshop/blob/master/Day_3_Sesson_2_Exercise.ipynb\" target=\"_parent\"><img src=\"https://colab.research.google.com/assets/colab-badge.svg\" alt=\"Open In Colab\"/></a>"
      ]
    },
    {
      "cell_type": "code",
      "metadata": {
        "id": "2GOExqwx4Dvw",
        "colab_type": "code",
        "colab": {
          "base_uri": "https://localhost:8080/",
          "height": 204
        },
        "outputId": "a6664cbb-9670-4093-def4-e6e33a25cadd"
      },
      "source": [
        "\n",
        "# Write a Python Program to Print Multiplication Table of a  number which got through keyboard.\n",
        "n = int(input(\"Enter a number : \"))\n",
        "for i in range(1,11):\n",
        "  print(f\"{n} x {i} = {n*i}\")"
      ],
      "execution_count": null,
      "outputs": [
        {
          "output_type": "stream",
          "text": [
            "Enter a number : 77\n",
            "77 x 1 = 77\n",
            "77 x 2 = 154\n",
            "77 x 3 = 231\n",
            "77 x 4 = 308\n",
            "77 x 5 = 385\n",
            "77 x 6 = 462\n",
            "77 x 7 = 539\n",
            "77 x 8 = 616\n",
            "77 x 9 = 693\n",
            "77 x 10 = 770\n"
          ],
          "name": "stdout"
        }
      ]
    },
    {
      "cell_type": "code",
      "metadata": {
        "id": "4ry3lO6d4LRo",
        "colab_type": "code",
        "colab": {
          "base_uri": "https://localhost:8080/",
          "height": 102
        },
        "outputId": "5bc4d7e4-503c-480e-9ef8-361d1523c726"
      },
      "source": [
        "# Write a  Python Program to find the Armstrong Numbers between 1 and 2000 ( i.e 153 is amtrong numbers as 1**3+5**3+3**3=153 )\n",
        "for i in range(1,2001):\n",
        "  l = list(map(int,str(i).strip()))\n",
        "  li = [x**3 for x in l]\n",
        "  if i == sum(li):\n",
        "      print(i)"
      ],
      "execution_count": null,
      "outputs": [
        {
          "output_type": "stream",
          "text": [
            "1\n",
            "153\n",
            "370\n",
            "371\n",
            "407\n"
          ],
          "name": "stdout"
        }
      ]
    },
    {
      "cell_type": "code",
      "metadata": {
        "id": "hem0UyRY4SlN",
        "colab_type": "code",
        "colab": {
          "base_uri": "https://localhost:8080/",
          "height": 204
        },
        "outputId": "6b9494f9-0625-4867-f751-372115133e8e"
      },
      "source": [
        "\n",
        "#Write a python program to get the list of tuples (rollno, name) for n students by getting rollno and name through keyboard. Sort and print  them as rollno wise and name wise both ascending and descending as well as alphabetical and dealphabetical orders\n",
        "l = [(int(input(\"Enter rollno of student %d : \"%i)),input(\"Enter name of student %d : \"%i)) for i in range(1,int(input(\"Enter number of students : \"))+1)]\n",
        "print(\"Soted rollno wise in ascending order : \",sorted(l, key = lambda x: x[0]))\n",
        "print(\"Soted rollno wise in descending order : \",sorted(l, key = lambda x: x[0], reverse=True))\n",
        "print(\"Soted name length wise in ascending order : \",sorted(l, key = lambda x: len(x[1])))\n",
        "print(\"Soted name length wise in descending order : \",sorted(l, key = lambda x: len(x[1]), reverse=True))\n",
        "print(\"Sorted in alphabetical order : \",sorted(l,key = lambda x:x[1]))\n",
        "print(\"Sorted in dealphabetical order : \",sorted(l,key = lambda x:x[1],reverse = True))"
      ],
      "execution_count": null,
      "outputs": [
        {
          "output_type": "stream",
          "text": [
            "Enter number of students : 2\n",
            "Enter rollno of student 1 : 1\n",
            "Enter name of student 1 : bhuvan\n",
            "Enter rollno of student 2 : 2\n",
            "Enter name of student 2 : badri\n",
            "Soted rollno wise in ascending order :  [(1, 'bhuvan'), (2, 'badri')]\n",
            "Soted rollno wise in descending order :  [(2, 'badri'), (1, 'bhuvan')]\n",
            "Soted name length wise in ascending order :  [(2, 'badri'), (1, 'bhuvan')]\n",
            "Soted name length wise in descending order :  [(1, 'bhuvan'), (2, 'badri')]\n",
            "Sorted in alphabetical order :  [(2, 'badri'), (1, 'bhuvan')]\n",
            "Sorted in dealphabetical order :  [(1, 'bhuvan'), (2, 'badri')]\n"
          ],
          "name": "stdout"
        }
      ]
    },
    {
      "cell_type": "code",
      "metadata": {
        "id": "XgzkHgAb4Vtf",
        "colab_type": "code",
        "colab": {
          "base_uri": "https://localhost:8080/",
          "height": 68
        },
        "outputId": "c4654bb0-56b6-41c2-f7a8-d77a93ef2cbd"
      },
      "source": [
        "#Python Program to Detect if Two Strings are Anagrams ( They are  the two strings which have same length and same words which may be different in their order)\n",
        "if(sorted(input(\"Enter string 1 : \")) == sorted(input(\"Enter string 2 : \"))):\n",
        "  print(\"Anagrams\")\n",
        "else:\n",
        "  print(\"Not anagrams\")"
      ],
      "execution_count": null,
      "outputs": [
        {
          "output_type": "stream",
          "text": [
            "Enter string 1 : long\n",
            "Enter string 2 : time\n",
            "Not anagrams\n"
          ],
          "name": "stdout"
        }
      ]
    },
    {
      "cell_type": "code",
      "metadata": {
        "id": "WHEkgErb4tKo",
        "colab_type": "code",
        "colab": {}
      },
      "source": [
        ""
      ],
      "execution_count": null,
      "outputs": []
    }
  ]
}